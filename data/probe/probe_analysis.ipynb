{
 "cells": [
  {
   "cell_type": "markdown",
   "metadata": {},
   "source": [
    "# Analysis of probe"
   ]
  },
  {
   "cell_type": "code",
   "execution_count": 44,
   "metadata": {},
   "outputs": [],
   "source": [
    "import numpy as np\n",
    "import json\n",
    "from matplotlib import pyplot as plt\n",
    "from tqdm import tqdm\n",
    "import math\n",
    "import scipy.special\n",
    "import scipy.optimize"
   ]
  },
  {
   "cell_type": "markdown",
   "metadata": {},
   "source": [
    "## Read from file"
   ]
  },
  {
   "cell_type": "code",
   "execution_count": 2,
   "metadata": {},
   "outputs": [
    {
     "name": "stderr",
     "output_type": "stream",
     "text": [
      "100%|██████████| 80/80 [00:00<00:00, 315.52it/s]\n"
     ]
    }
   ],
   "source": [
    "GunXPosition = np.empty((80, 1))\n",
    "GunYPosition = np.empty((80, 1))\n",
    "GunZPosition = np.empty((80, 1))\n",
    "PE = np.empty((80, 2, 1000))\n",
    "\n",
    "for run_number in tqdm(range(80)):\n",
    "    with open(f\"./run{run_number}/RunConditions.json\", \"r\") as run_conditions_json:\n",
    "        run_condition_loaded = json.load(run_conditions_json)\n",
    "        GunXPosition[run_number] = run_condition_loaded[\"GunXPosition/cm\"]\n",
    "        GunYPosition[run_number] = run_condition_loaded[\"GunYPosition/cm\"]\n",
    "        GunZPosition[run_number] = run_condition_loaded[\"GunZPosition/cm\"]\n",
    "    \n",
    "    for SiPMNb in range(2):\n",
    "        with open(f\"./run{run_number}/PEs of SiPM/SiPM_{SiPMNb}.csv\", \"r\") as PEFile:\n",
    "            PE[run_number][SiPMNb] = np.loadtxt(PEFile, comments='#', delimiter=',', dtype=np.int8, usecols=0)"
   ]
  },
  {
   "cell_type": "markdown",
   "metadata": {},
   "source": [
    "## Single distribution validation\n",
    "\n",
    "It is postulated that the distribution of PEs are poisson-like or binomial. Here, the two distributions are the same."
   ]
  },
  {
   "cell_type": "code",
   "execution_count": 65,
   "metadata": {},
   "outputs": [
    {
     "name": "stdout",
     "output_type": "stream",
     "text": [
      "0.000665825\n"
     ]
    },
    {
     "data": {
      "image/png": "[encoded data removed]",
      "text/plain": [
       "<Figure size 432x288 with 1 Axes>"
      ]
     },
     "metadata": {
      "needs_background": "light"
     },
     "output_type": "display_data"
    }
   ],
   "source": [
    "test_PE_Data = PE[20][0]\n",
    "\n",
    "plt.hist(test_PE_Data, bins=int(test_PE_Data.max() - test_PE_Data.min()))\n",
    "\n",
    "def binomial_prob(single_prob, n, result):\n",
    "    return scipy.special.comb(n, result)*single_prob**result*(1-single_prob)**(n-result)\n",
    "\n",
    "def poisson_prob(expectation, result):\n",
    "    return expectation**result/scipy.special.factorial(result)*np.exp(-expectation)\n",
    "\n",
    "single_prob = test_PE_Data.mean()/40000\n",
    "print(single_prob)\n",
    "sample = np.arange(int(test_PE_Data.min()), int(test_PE_Data.max()), 1)\n",
    "\n",
    "theory_binomial = binomial_prob(single_prob, 40000, sample)*1000\n",
    "theory_poisson = poisson_prob(single_prob*40000, sample)*1000\n",
    "\n",
    "plt.plot(sample, theory_binomial, label=\"Binomial\")\n",
    "plt.plot(sample, theory_poisson, label=\"Poisson\")\n",
    "plt.xlabel(\"PEs\")\n",
    "plt.ylabel(\"Entries\")\n",
    "plt.title(\"Histogram of PEs\")\n",
    "plt.legend()\n",
    "plt.savefig('test_PE_distribution.png', dpi=600, bbox_inches='tight')"
   ]
  },
  {
   "cell_type": "markdown",
   "metadata": {},
   "source": [
    "Two approaches can be used to determine the probability of a single photon coming into the SiPM. One is to use the mean value; the other is to define $\\chi^2$ and minimizing that.\n",
    "$$\\chi^2 = \\sum_{i=1}^{k} \\frac{(f_i - np_i)^2}{np_i}$$"
   ]
  },
  {
   "cell_type": "code",
   "execution_count": 68,
   "metadata": {},
   "outputs": [
    {
     "name": "stdout",
     "output_type": "stream",
     "text": [
      "[0.00066976]\n"
     ]
    }
   ],
   "source": [
    "def chi2(single_prob, *args):\n",
    "    experiment_data = args[0]\n",
    "    experiment_times = args[1]\n",
    "    experiment_hist, _ = np.histogram(experiment_data, bins=int(experiment_data.max())-int(experiment_data.min()))\n",
    "    sample = np.arange(int(experiment_data.min()), int(experiment_data.max()))\n",
    "    prob = binomial_prob(single_prob, 40000, sample)\n",
    "    return np.sum((experiment_hist-experiment_times*prob)**2/(experiment_times*prob))\n",
    "\n",
    "new_single_prob = scipy.optimize.minimize(chi2, single_prob, args=(test_PE_Data, 1000), bounds=((single_prob/2, single_prob*2),)).x\n",
    "print(new_single_prob)"
   ]
  },
  {
   "cell_type": "code",
   "execution_count": null,
   "metadata": {},
   "outputs": [],
   "source": []
  },
  {
   "cell_type": "code",
   "execution_count": null,
   "metadata": {},
   "outputs": [],
   "source": []
  }
 ],
 "metadata": {
  "kernelspec": {
   "display_name": "Python 3.8.12 64-bit",
   "language": "python",
   "name": "python3"
  },
  "language_info": {
   "codemirror_mode": {
    "name": "ipython",
    "version": 3
   },
   "file_extension": ".py",
   "mimetype": "text/x-python",
   "name": "python",
   "nbconvert_exporter": "python",
   "pygments_lexer": "ipython3",
   "version": "3.8.10"
  },
  "orig_nbformat": 4,
  "vscode": {
   "interpreter": {
    "hash": "df0893f56f349688326838aaeea0de204df53a132722cbd565e54b24a8fec5f6"
   }
  }
 },
 "nbformat": 4,
 "nbformat_minor": 2
}
