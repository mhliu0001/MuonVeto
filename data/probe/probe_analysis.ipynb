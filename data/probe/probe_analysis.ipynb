{
 "cells": [
  {
   "cell_type": "markdown",
   "metadata": {},
   "source": [
    "# Analysis of probe"
   ]
  },
  {
   "cell_type": "code",
   "execution_count": 4,
   "metadata": {},
   "outputs": [],
   "source": [
    "import numpy as np\n",
    "import json\n",
    "from matplotlib import pyplot as plt\n",
    "from tqdm import tqdm"
   ]
  },
  {
   "cell_type": "markdown",
   "metadata": {},
   "source": [
    "## Run Conditions"
   ]
  },
  {
   "cell_type": "code",
   "execution_count": 6,
   "metadata": {},
   "outputs": [
    {
     "name": "stderr",
     "output_type": "stream",
     "text": [
      "100%|██████████| 80/80 [00:00<00:00, 243.14it/s]\n"
     ]
    }
   ],
   "source": [
    "GunXPosition = np.empty((80, 1))\n",
    "GunYPosition = np.empty((80, 1))\n",
    "GunZPosition = np.empty((80, 1))\n",
    "PE = np.empty((80, 2, 1000))\n",
    "\n",
    "for run_number in tqdm(range(80)):\n",
    "    with open(f\"./run{run_number}/RunConditions.json\", \"r\") as run_conditions_json:\n",
    "        run_condition_loaded = json.load(run_conditions_json)\n",
    "        GunXPosition[run_number] = run_condition_loaded[\"GunXPosition/cm\"]\n",
    "        GunYPosition[run_number] = run_condition_loaded[\"GunYPosition/cm\"]\n",
    "        GunZPosition[run_number] = run_condition_loaded[\"GunZPosition/cm\"]\n",
    "    \n",
    "    for SiPMNb in range(2):\n",
    "        with open(f\"./run{run_number}/PEs of SiPM/SiPM_{SiPMNb}.csv\", \"r\") as PEFile:\n",
    "            PE[run_number][SiPMNb] = np.loadtxt(PEFile, comments='#', delimiter=',', dtype=np.int8, usecols=0)"
   ]
  },
  {
   "cell_type": "code",
   "execution_count": 19,
   "metadata": {},
   "outputs": [
    {
     "data": {
      "image/png": "[encoded data removed]",
      "text/plain": [
       "<Figure size 432x288 with 1 Axes>"
      ]
     },
     "metadata": {
      "needs_background": "light"
     },
     "output_type": "display_data"
    }
   ],
   "source": [
    "plt.hist(PE[0][0], bins=int(PE[0][0].max() - PE[0][0].min()))\n",
    "plt.xlabel(\"PEs\")\n",
    "plt.ylabel(\"Entries\")\n",
    "plt.title(\"Histogram of PEs\")\n",
    "plt.show()"
   ]
  },
  {
   "cell_type": "code",
   "execution_count": 12,
   "metadata": {},
   "outputs": [
    {
     "name": "stdout",
     "output_type": "stream",
     "text": [
      "[[ 21.703  97.435]\n",
      " [ 25.282  75.427]\n",
      " [ 28.444  64.844]\n",
      " [ 30.666  59.525]\n",
      " [ 32.405  54.905]\n",
      " [ 33.595  50.873]\n",
      " [ 35.349  48.367]\n",
      " [ 37.077  45.271]\n",
      " [ 38.967  43.307]\n",
      " [ 40.998  41.043]\n",
      " [ 43.219  38.566]\n",
      " [ 45.532  37.071]\n",
      " [ 48.012  35.674]\n",
      " [ 50.974  33.958]\n",
      " [ 54.781  32.612]\n",
      " [ 59.426  30.827]\n",
      " [ 65.272  28.556]\n",
      " [ 75.482  25.631]\n",
      " [ 97.427  21.931]\n",
      " [ 22.674  99.677]\n",
      " [ 26.633  77.374]\n",
      " [ 29.414  67.333]\n",
      " [ 31.849  61.716]\n",
      " [ 33.598  56.741]\n",
      " [ 34.961  53.015]\n",
      " [ 36.675  49.676]\n",
      " [ 38.889  47.045]\n",
      " [ 40.501  44.789]\n",
      " [ 42.923  42.378]\n",
      " [ 44.824  40.67 ]\n",
      " [ 46.852  38.521]\n",
      " [ 49.809  36.919]\n",
      " [ 53.117  34.912]\n",
      " [ 56.157  33.494]\n",
      " [ 61.724  32.017]\n",
      " [ 67.592  29.593]\n",
      " [ 77.798  26.257]\n",
      " [ 98.726  22.47 ]\n",
      " [ 23.539 100.683]\n",
      " [ 28.371  81.237]\n",
      " [ 31.439  71.163]\n",
      " [ 33.665  65.318]\n",
      " [ 35.452  60.021]\n",
      " [ 37.447  56.233]\n",
      " [ 38.904  52.742]\n",
      " [ 41.071  50.307]\n",
      " [ 42.708  47.218]\n",
      " [ 44.838  45.141]\n",
      " [ 47.599  42.862]\n",
      " [ 50.121  40.81 ]\n",
      " [ 52.898  38.493]\n",
      " [ 55.692  37.322]\n",
      " [ 60.331  35.533]\n",
      " [ 65.097  34.006]\n",
      " [ 71.249  31.425]\n",
      " [ 80.606  28.095]\n",
      " [101.813  23.408]\n",
      " [ 25.067  95.569]\n",
      " [ 29.894  86.262]\n",
      " [ 33.475  75.967]\n",
      " [ 35.621  68.497]\n",
      " [ 37.198  63.007]\n",
      " [ 39.111  58.527]\n",
      " [ 40.715  55.007]\n",
      " [ 42.751  52.582]\n",
      " [ 44.745  49.889]\n",
      " [ 47.009  47.455]\n",
      " [ 50.174  44.89 ]\n",
      " [ 52.423  42.625]\n",
      " [ 55.2    40.986]\n",
      " [ 58.527  39.305]\n",
      " [ 62.814  37.332]\n",
      " [ 68.233  35.883]\n",
      " [ 75.237  33.545]\n",
      " [ 86.402  30.259]\n",
      " [ 97.172  25.153]\n",
      " [ 27.363  73.894]\n",
      " [ 32.387  92.502]\n",
      " [ 34.485  78.235]\n",
      " [ 35.99   69.041]]\n"
     ]
    }
   ],
   "source": [
    "PEMean = PE.mean(axis=2)\n",
    "PEStd = PE.std(axis=2)\n",
    "\n",
    "PEMean_plot = np.empty(80, 80, 1)"
   ]
  }
 ],
 "metadata": {
  "kernelspec": {
   "display_name": "Python 3.9.12 ('muonveto')",
   "language": "python",
   "name": "python3"
  },
  "language_info": {
   "codemirror_mode": {
    "name": "ipython",
    "version": 3
   },
   "file_extension": ".py",
   "mimetype": "text/x-python",
   "name": "python",
   "nbconvert_exporter": "python",
   "pygments_lexer": "ipython3",
   "version": "3.9.12"
  },
  "orig_nbformat": 4,
  "vscode": {
   "interpreter": {
    "hash": "7d50fee8686e9259375b34e4b42851dfe4529795206df6bbd953c843556b9210"
   }
  }
 },
 "nbformat": 4,
 "nbformat_minor": 2
}
