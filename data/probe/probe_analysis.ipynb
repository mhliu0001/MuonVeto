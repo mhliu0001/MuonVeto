{
 "cells": [
  {
   "cell_type": "markdown",
   "metadata": {},
   "source": [
    "# Analysis of probe"
   ]
  },
  {
   "cell_type": "code",
   "execution_count": 69,
   "metadata": {},
   "outputs": [],
   "source": [
    "import numpy as np\n",
    "import json\n",
    "from matplotlib import pyplot as plt\n",
    "from tqdm import tqdm\n",
    "import math\n",
    "import scipy.special\n",
    "import scipy.optimize"
   ]
  },
  {
   "cell_type": "markdown",
   "metadata": {},
   "source": [
    "## Read from file"
   ]
  },
  {
   "cell_type": "code",
   "execution_count": 84,
   "metadata": {},
   "outputs": [
    {
     "name": "stderr",
     "output_type": "stream",
     "text": [
      " 34%|███▎      | 121/361 [00:00<00:00, 339.48it/s]\n"
     ]
    },
    {
     "ename": "ValueError",
     "evalue": "could not broadcast input array from shape (8,) into shape (1000,)",
     "output_type": "error",
     "traceback": [
      "\u001b[0;31m---------------------------------------------------------------------------\u001b[0m",
      "\u001b[0;31mValueError\u001b[0m                                Traceback (most recent call last)",
      "\u001b[0;32m/tmp/ipykernel_6237/3749264208.py\u001b[0m in \u001b[0;36m<module>\u001b[0;34m\u001b[0m\n\u001b[1;32m     13\u001b[0m     \u001b[0;32mfor\u001b[0m \u001b[0mSiPMNb\u001b[0m \u001b[0;32min\u001b[0m \u001b[0mrange\u001b[0m\u001b[0;34m(\u001b[0m\u001b[0;36m2\u001b[0m\u001b[0;34m)\u001b[0m\u001b[0;34m:\u001b[0m\u001b[0;34m\u001b[0m\u001b[0;34m\u001b[0m\u001b[0m\n\u001b[1;32m     14\u001b[0m         \u001b[0;32mwith\u001b[0m \u001b[0mopen\u001b[0m\u001b[0;34m(\u001b[0m\u001b[0;34mf\"./run{run_number}/PEs of SiPM/SiPM_{SiPMNb}.csv\"\u001b[0m\u001b[0;34m,\u001b[0m \u001b[0;34m\"r\"\u001b[0m\u001b[0;34m)\u001b[0m \u001b[0;32mas\u001b[0m \u001b[0mPEFile\u001b[0m\u001b[0;34m:\u001b[0m\u001b[0;34m\u001b[0m\u001b[0;34m\u001b[0m\u001b[0m\n\u001b[0;32m---> 15\u001b[0;31m             \u001b[0mPE\u001b[0m\u001b[0;34m[\u001b[0m\u001b[0mrun_number\u001b[0m\u001b[0;34m]\u001b[0m\u001b[0;34m[\u001b[0m\u001b[0mSiPMNb\u001b[0m\u001b[0;34m]\u001b[0m \u001b[0;34m=\u001b[0m \u001b[0mnp\u001b[0m\u001b[0;34m.\u001b[0m\u001b[0mloadtxt\u001b[0m\u001b[0;34m(\u001b[0m\u001b[0mPEFile\u001b[0m\u001b[0;34m,\u001b[0m \u001b[0mcomments\u001b[0m\u001b[0;34m=\u001b[0m\u001b[0;34m'#'\u001b[0m\u001b[0;34m,\u001b[0m \u001b[0mdelimiter\u001b[0m\u001b[0;34m=\u001b[0m\u001b[0;34m','\u001b[0m\u001b[0;34m,\u001b[0m \u001b[0mdtype\u001b[0m\u001b[0;34m=\u001b[0m\u001b[0mnp\u001b[0m\u001b[0;34m.\u001b[0m\u001b[0mint8\u001b[0m\u001b[0;34m,\u001b[0m \u001b[0musecols\u001b[0m\u001b[0;34m=\u001b[0m\u001b[0;36m0\u001b[0m\u001b[0;34m)\u001b[0m\u001b[0;34m\u001b[0m\u001b[0;34m\u001b[0m\u001b[0m\n\u001b[0m",
      "\u001b[0;31mValueError\u001b[0m: could not broadcast input array from shape (8,) into shape (1000,)"
     ]
    }
   ],
   "source": [
    "GunXPosition = np.empty((361, 1))\n",
    "GunYPosition = np.empty((361, 1))\n",
    "GunZPosition = np.empty((361, 1))\n",
    "PE = np.empty((361, 2, 1000))\n",
    "\n",
    "for run_number in tqdm(range(361)):\n",
    "    with open(f\"./run{run_number}/RunConditions.json\", \"r\") as run_conditions_json:\n",
    "        run_condition_loaded = json.load(run_conditions_json)\n",
    "        GunXPosition[run_number] = run_condition_loaded[\"GunXPosition/cm\"]\n",
    "        GunYPosition[run_number] = run_condition_loaded[\"GunYPosition/cm\"]\n",
    "        GunZPosition[run_number] = run_condition_loaded[\"GunZPosition/cm\"]\n",
    "    \n",
    "    for SiPMNb in range(2):\n",
    "        with open(f\"./run{run_number}/PEs of SiPM/SiPM_{SiPMNb}.csv\", \"r\") as PEFile:\n",
    "            PE[run_number][SiPMNb] = np.loadtxt(PEFile, comments='#', delimiter=',', dtype=np.int8, usecols=0)"
   ]
  },
  {
   "cell_type": "markdown",
   "metadata": {},
   "source": [
    "## Single distribution validation\n",
    "\n",
    "It is postulated that the distribution of PEs are poisson-like or binomial. Here, the two distributions are the same."
   ]
  },
  {
   "cell_type": "code",
   "execution_count": 65,
   "metadata": {},
   "outputs": [
    {
     "name": "stdout",
     "output_type": "stream",
     "text": [
      "0.000665825\n"
     ]
    },
    {
     "data": {
      "image/png": "[encoded data removed]",
      "text/plain": [
       "<Figure size 432x288 with 1 Axes>"
      ]
     },
     "metadata": {
      "needs_background": "light"
     },
     "output_type": "display_data"
    }
   ],
   "source": [
    "test_PE_Data = PE[20][0]\n",
    "\n",
    "plt.hist(test_PE_Data, bins=int(test_PE_Data.max() - test_PE_Data.min()))\n",
    "\n",
    "def binomial_prob(single_prob, n, result):\n",
    "    return scipy.special.comb(n, result)*single_prob**result*(1-single_prob)**(n-result)\n",
    "\n",
    "def poisson_prob(expectation, result):\n",
    "    return expectation**result/scipy.special.factorial(result)*np.exp(-expectation)\n",
    "\n",
    "single_prob = test_PE_Data.mean()/40000\n",
    "print(single_prob)\n",
    "sample = np.arange(int(test_PE_Data.min()), int(test_PE_Data.max()), 1)\n",
    "\n",
    "theory_binomial = binomial_prob(single_prob, 40000, sample)*1000\n",
    "theory_poisson = poisson_prob(single_prob*40000, sample)*1000\n",
    "\n",
    "plt.plot(sample, theory_binomial, label=\"Binomial\")\n",
    "plt.plot(sample, theory_poisson, label=\"Poisson\")\n",
    "plt.xlabel(\"PEs\")\n",
    "plt.ylabel(\"Entries\")\n",
    "plt.title(\"Histogram of PEs\")\n",
    "plt.legend()\n",
    "plt.savefig('test_PE_distribution.png', dpi=600, bbox_inches='tight')"
   ]
  },
  {
   "cell_type": "markdown",
   "metadata": {},
   "source": [
    "Two approaches can be used to determine the probability of a single photon coming into the SiPM. One is to use the mean value; the other is to define $\\chi^2$ and minimizing that.\n",
    "$$\\chi^2 = \\sum_{i=1}^{k} \\frac{(f_i - np_i)^2}{np_i}$$"
   ]
  },
  {
   "cell_type": "code",
   "execution_count": 68,
   "metadata": {},
   "outputs": [
    {
     "name": "stdout",
     "output_type": "stream",
     "text": [
      "[0.00066976]\n"
     ]
    }
   ],
   "source": [
    "def chi2(single_prob, *args):\n",
    "    experiment_data = args[0]\n",
    "    experiment_times = args[1]\n",
    "    experiment_hist, _ = np.histogram(experiment_data, bins=int(experiment_data.max())-int(experiment_data.min()))\n",
    "    sample = np.arange(int(experiment_data.min()), int(experiment_data.max()))\n",
    "    prob = binomial_prob(single_prob, 40000, sample)\n",
    "    return np.sum((experiment_hist-experiment_times*prob)**2/(experiment_times*prob))\n",
    "\n",
    "new_single_prob = scipy.optimize.minimize(chi2, single_prob, args=(test_PE_Data, 1000), bounds=((single_prob/2, single_prob*2),)).x\n",
    "print(new_single_prob)"
   ]
  },
  {
   "cell_type": "markdown",
   "metadata": {},
   "source": [
    "## Probe for whole PS"
   ]
  },
  {
   "cell_type": "code",
   "execution_count": 94,
   "metadata": {},
   "outputs": [
    {
     "data": {
      "text/plain": [
       "<matplotlib.colorbar.Colorbar at 0x7ff8fc9dbee0>"
      ]
     },
     "execution_count": 94,
     "metadata": {},
     "output_type": "execute_result"
    },
    {
     "data": {
      "image/png": "[encoded data removed]",
      "text/plain": [
       "<Figure size 432x288 with 2 Axes>"
      ]
     },
     "metadata": {
      "needs_background": "light"
     },
     "output_type": "display_data"
    }
   ],
   "source": [
    "probe = np.empty((5, 19))\n",
    "runID = 0\n",
    "for X_index in range(5):\n",
    "    for Z_index in range(19):\n",
    "        probe[X_index][Z_index] = PE[runID][0].mean()/40000\n",
    "        runID += 1\n",
    "#plt.xticks(np.arange(19), np.linspace(-45, 45, 19))\n",
    "#plt.yticks(np.arange(5), np.linspace(-4.5, -2.5, 5))\n",
    "plt.xlabel(\"Z position /cm\")\n",
    "plt.ylabel(\"X position /cm\")\n",
    "plt.title(\"Probe of Single PS\")\n",
    "plt.imshow(probe, origin='lower', extent=(-45, 45, -4.5, 4.5))\n",
    "plt.colorbar(location='bottom')"
   ]
  },
  {
   "cell_type": "code",
   "execution_count": null,
   "metadata": {},
   "outputs": [],
   "source": []
  }
 ],
 "metadata": {
  "kernelspec": {
   "display_name": "Python 3.8.12 64-bit",
   "language": "python",
   "name": "python3"
  },
  "language_info": {
   "codemirror_mode": {
    "name": "ipython",
    "version": 3
   },
   "file_extension": ".py",
   "mimetype": "text/x-python",
   "name": "python",
   "nbconvert_exporter": "python",
   "pygments_lexer": "ipython3",
   "version": "3.8.10"
  },
  "orig_nbformat": 4,
  "vscode": {
   "interpreter": {
    "hash": "df0893f56f349688326838aaeea0de204df53a132722cbd565e54b24a8fec5f6"
   }
  }
 },
 "nbformat": 4,
 "nbformat_minor": 2
}
